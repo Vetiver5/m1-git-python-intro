{
 "cells": [
  {
   "cell_type": "code",
   "execution_count": null,
   "metadata": {},
   "outputs": [],
   "source": [
    "\"\"\"\"\"\"\n",
    "A few notes\n",
    "\"\"\"\"\"\"\"\n",
    "\n",
    "#Hi, Matt. As a total beginner, I focussed on writing the solutions\n",
    "#as much as possible by myself or with help from a TC. I spent lots\n",
    "#of time doing tutorials on W3, read solutions in stackoverflow and\n",
    "#elsewhere, etc, and aimed to use nothing I did not understand.\n",
    "\n",
    "#I could not get to the end of the exercises with the time I had, but\n",
    "#I learned a lot. If you want me to submit more work to make up for\n",
    "#the missing exercises, I'm totally fine with that. Otherwise, I \n",
    "#understand that I might not pass on this and just have to keep on\n",
    "#putting in the time and effort. I'm ok with that too! : ) A."
   ]
  },
  {
   "cell_type": "markdown",
   "metadata": {},
   "source": [
    "# Warmup: adder function\n",
    "\n",
    "Create a function that takes two numbers as arguments and return their sum.\n",
    "Examples\n",
    "\n",
    "addition(3, 2) ➞ 5\n",
    "\n",
    "addition(-3, -6) ➞ -9\n",
    "\n",
    "addition(7, 3) ➞ 10"
   ]
  },
  {
   "cell_type": "code",
   "execution_count": 47,
   "metadata": {},
   "outputs": [
    {
     "name": "stdout",
     "output_type": "stream",
     "text": [
      "[5, -9, 10]\n"
     ]
    }
   ],
   "source": [
    "#review and define as function\n",
    "\n",
    "a = [3,-3,7]\n",
    "b = [2,-6,3]\n",
    "\n",
    "zipped = zip(a,b)\n",
    "\n",
    "sum = [x + y for (x,y) in zipped]\n",
    "       \n",
    "print(sum)\n"
   ]
  },
  {
   "cell_type": "markdown",
   "metadata": {},
   "source": [
    "# Warmup 2: even numbers\n",
    "\n",
    "Generate a Python list of all the even numbers between 4 to 3048"
   ]
  },
  {
   "cell_type": "code",
   "execution_count": 70,
   "metadata": {},
   "outputs": [
    {
     "name": "stdout",
     "output_type": "stream",
     "text": [
      "4, 6, 8, 10, 12, 14, 16, 18, 20, 22, 24, 26, 28, 30, 32, 34, 36, 38, 40, 42, 44, 46, 48, 50, 52, 54, 56, 58, 60, 62, 64, 66, 68, 70, 72, 74, 76, 78, 80, 82, 84, 86, 88, 90, 92, 94, 96, 98, 100, 102, 104, 106, 108, 110, 112, 114, 116, 118, 120, 122, 124, 126, 128, 130, 132, 134, 136, 138, 140, 142, 144, 146, 148, 150, 152, 154, 156, 158, 160, 162, 164, 166, 168, 170, 172, 174, 176, 178, 180, 182, 184, 186, 188, 190, 192, 194, 196, 198, 200, 202, 204, 206, 208, 210, 212, 214, 216, 218, 220, 222, 224, 226, 228, 230, 232, 234, 236, 238, 240, 242, 244, 246, 248, 250, 252, 254, 256, 258, 260, 262, 264, 266, 268, 270, 272, 274, 276, 278, 280, 282, 284, 286, 288, 290, 292, 294, 296, 298, 300, 302, 304, 306, 308, 310, 312, 314, 316, 318, 320, 322, 324, 326, 328, 330, 332, 334, 336, 338, 340, 342, 344, 346, 348, 350, 352, 354, 356, 358, 360, 362, 364, 366, 368, 370, 372, 374, 376, 378, 380, 382, 384, 386, 388, 390, 392, 394, 396, 398, 400, 402, 404, 406, 408, 410, 412, 414, 416, 418, 420, 422, 424, 426, 428, 430, 432, 434, 436, 438, 440, 442, 444, 446, 448, 450, 452, 454, 456, 458, 460, 462, 464, 466, 468, 470, 472, 474, 476, 478, 480, 482, 484, 486, 488, 490, 492, 494, 496, 498, 500, 502, 504, 506, 508, 510, 512, 514, 516, 518, 520, 522, 524, 526, 528, 530, 532, 534, 536, 538, 540, 542, 544, 546, 548, 550, 552, 554, 556, 558, 560, 562, 564, 566, 568, 570, 572, 574, 576, 578, 580, 582, 584, 586, 588, 590, 592, 594, 596, 598, 600, 602, 604, 606, 608, 610, 612, 614, 616, 618, 620, 622, 624, 626, 628, 630, 632, 634, 636, 638, 640, 642, 644, 646, 648, 650, 652, 654, 656, 658, 660, 662, 664, 666, 668, 670, 672, 674, 676, 678, 680, 682, 684, 686, 688, 690, 692, 694, 696, 698, 700, 702, 704, 706, 708, 710, 712, 714, 716, 718, 720, 722, 724, 726, 728, 730, 732, 734, 736, 738, 740, 742, 744, 746, 748, 750, 752, 754, 756, 758, 760, 762, 764, 766, 768, 770, 772, 774, 776, 778, 780, 782, 784, 786, 788, 790, 792, 794, 796, 798, 800, 802, 804, 806, 808, 810, 812, 814, 816, 818, 820, 822, 824, 826, 828, 830, 832, 834, 836, 838, 840, 842, 844, 846, 848, 850, 852, 854, 856, 858, 860, 862, 864, 866, 868, 870, 872, 874, 876, 878, 880, 882, 884, 886, 888, 890, 892, 894, 896, 898, 900, 902, 904, 906, 908, 910, 912, 914, 916, 918, 920, 922, 924, 926, 928, 930, 932, 934, 936, 938, 940, 942, 944, 946, 948, 950, 952, 954, 956, 958, 960, 962, 964, 966, 968, 970, 972, 974, 976, 978, 980, 982, 984, 986, 988, 990, 992, 994, 996, 998, 1000, 1002, 1004, 1006, 1008, 1010, 1012, 1014, 1016, 1018, 1020, 1022, 1024, 1026, 1028, 1030, 1032, 1034, 1036, 1038, 1040, 1042, 1044, 1046, 1048, 1050, 1052, 1054, 1056, 1058, 1060, 1062, 1064, 1066, 1068, 1070, 1072, 1074, 1076, 1078, 1080, 1082, 1084, 1086, 1088, 1090, 1092, 1094, 1096, 1098, 1100, 1102, 1104, 1106, 1108, 1110, 1112, 1114, 1116, 1118, 1120, 1122, 1124, 1126, 1128, 1130, 1132, 1134, 1136, 1138, 1140, 1142, 1144, 1146, 1148, 1150, 1152, 1154, 1156, 1158, 1160, 1162, 1164, 1166, 1168, 1170, 1172, 1174, 1176, 1178, 1180, 1182, 1184, 1186, 1188, 1190, 1192, 1194, 1196, 1198, 1200, 1202, 1204, 1206, 1208, 1210, 1212, 1214, 1216, 1218, 1220, 1222, 1224, 1226, 1228, 1230, 1232, 1234, 1236, 1238, 1240, 1242, 1244, 1246, 1248, 1250, 1252, 1254, 1256, 1258, 1260, 1262, 1264, 1266, 1268, 1270, 1272, 1274, 1276, 1278, 1280, 1282, 1284, 1286, 1288, 1290, 1292, 1294, 1296, 1298, 1300, 1302, 1304, 1306, 1308, 1310, 1312, 1314, 1316, 1318, 1320, 1322, 1324, 1326, 1328, 1330, 1332, 1334, 1336, 1338, 1340, 1342, 1344, 1346, 1348, 1350, 1352, 1354, 1356, 1358, 1360, 1362, 1364, 1366, 1368, 1370, 1372, 1374, 1376, 1378, 1380, 1382, 1384, 1386, 1388, 1390, 1392, 1394, 1396, 1398, 1400, 1402, 1404, 1406, 1408, 1410, 1412, 1414, 1416, 1418, 1420, 1422, 1424, 1426, 1428, 1430, 1432, 1434, 1436, 1438, 1440, 1442, 1444, 1446, 1448, 1450, 1452, 1454, 1456, 1458, 1460, 1462, 1464, 1466, 1468, 1470, 1472, 1474, 1476, 1478, 1480, 1482, 1484, 1486, 1488, 1490, 1492, 1494, 1496, 1498, 1500, 1502, 1504, 1506, 1508, 1510, 1512, 1514, 1516, 1518, 1520, 1522, 1524, 1526, 1528, 1530, 1532, 1534, 1536, 1538, 1540, 1542, 1544, 1546, 1548, 1550, 1552, 1554, 1556, 1558, 1560, 1562, 1564, 1566, 1568, 1570, 1572, 1574, 1576, 1578, 1580, 1582, 1584, 1586, 1588, 1590, 1592, 1594, 1596, 1598, 1600, 1602, 1604, 1606, 1608, 1610, 1612, 1614, 1616, 1618, 1620, 1622, 1624, 1626, 1628, 1630, 1632, 1634, 1636, 1638, 1640, 1642, 1644, 1646, 1648, 1650, 1652, 1654, 1656, 1658, 1660, 1662, 1664, 1666, 1668, 1670, 1672, 1674, 1676, 1678, 1680, 1682, 1684, 1686, 1688, 1690, 1692, 1694, 1696, 1698, 1700, 1702, 1704, 1706, 1708, 1710, 1712, 1714, 1716, 1718, 1720, 1722, 1724, 1726, 1728, 1730, 1732, 1734, 1736, 1738, 1740, 1742, 1744, 1746, 1748, 1750, 1752, 1754, 1756, 1758, 1760, 1762, 1764, 1766, 1768, 1770, 1772, 1774, 1776, 1778, 1780, 1782, 1784, 1786, 1788, 1790, 1792, 1794, 1796, 1798, 1800, 1802, 1804, 1806, 1808, 1810, 1812, 1814, 1816, 1818, 1820, 1822, 1824, 1826, 1828, 1830, 1832, 1834, 1836, 1838, 1840, 1842, 1844, 1846, 1848, 1850, 1852, 1854, 1856, 1858, 1860, 1862, 1864, 1866, 1868, 1870, 1872, 1874, 1876, 1878, 1880, 1882, 1884, 1886, 1888, 1890, 1892, 1894, 1896, 1898, 1900, 1902, 1904, 1906, 1908, 1910, 1912, 1914, 1916, 1918, 1920, 1922, 1924, 1926, 1928, 1930, 1932, 1934, 1936, 1938, 1940, 1942, 1944, 1946, 1948, 1950, 1952, 1954, 1956, 1958, 1960, 1962, 1964, 1966, 1968, 1970, 1972, 1974, 1976, 1978, 1980, 1982, 1984, 1986, 1988, 1990, 1992, 1994, 1996, 1998, 2000, 2002, 2004, 2006, 2008, 2010, 2012, 2014, 2016, 2018, 2020, 2022, 2024, 2026, 2028, 2030, 2032, 2034, 2036, 2038, 2040, 2042, 2044, 2046, 2048, 2050, 2052, 2054, 2056, 2058, 2060, 2062, 2064, 2066, 2068, 2070, 2072, 2074, 2076, 2078, 2080, 2082, 2084, 2086, 2088, 2090, 2092, 2094, 2096, 2098, 2100, 2102, 2104, 2106, 2108, 2110, 2112, 2114, 2116, 2118, 2120, 2122, 2124, 2126, 2128, 2130, 2132, 2134, 2136, 2138, 2140, 2142, 2144, 2146, 2148, 2150, 2152, 2154, 2156, 2158, 2160, 2162, 2164, 2166, 2168, 2170, 2172, 2174, 2176, 2178, 2180, 2182, 2184, 2186, 2188, 2190, 2192, 2194, 2196, 2198, 2200, 2202, 2204, 2206, 2208, 2210, 2212, 2214, 2216, 2218, 2220, 2222, 2224, 2226, 2228, 2230, 2232, 2234, 2236, 2238, 2240, 2242, 2244, 2246, 2248, 2250, 2252, 2254, 2256, 2258, 2260, 2262, 2264, 2266, 2268, 2270, 2272, 2274, 2276, 2278, 2280, 2282, 2284, 2286, 2288, 2290, 2292, 2294, 2296, 2298, 2300, 2302, 2304, 2306, 2308, 2310, 2312, 2314, 2316, 2318, 2320, 2322, 2324, 2326, 2328, 2330, 2332, 2334, 2336, 2338, 2340, 2342, 2344, 2346, 2348, 2350, 2352, 2354, 2356, 2358, 2360, 2362, 2364, 2366, 2368, 2370, 2372, 2374, 2376, 2378, 2380, 2382, 2384, 2386, 2388, 2390, 2392, 2394, 2396, 2398, 2400, 2402, 2404, 2406, 2408, 2410, 2412, 2414, 2416, 2418, 2420, 2422, 2424, 2426, 2428, 2430, 2432, 2434, 2436, 2438, 2440, 2442, 2444, 2446, 2448, 2450, 2452, 2454, 2456, 2458, 2460, 2462, 2464, 2466, 2468, 2470, 2472, 2474, 2476, 2478, 2480, 2482, 2484, 2486, 2488, 2490, 2492, 2494, 2496, 2498, 2500, 2502, 2504, 2506, 2508, 2510, 2512, 2514, 2516, 2518, 2520, 2522, 2524, 2526, 2528, 2530, 2532, 2534, 2536, 2538, 2540, 2542, 2544, 2546, 2548, 2550, 2552, 2554, 2556, 2558, 2560, 2562, 2564, 2566, 2568, 2570, 2572, 2574, 2576, 2578, 2580, 2582, 2584, 2586, 2588, 2590, 2592, 2594, 2596, 2598, 2600, 2602, 2604, 2606, 2608, 2610, 2612, 2614, 2616, 2618, 2620, 2622, 2624, 2626, 2628, 2630, 2632, 2634, 2636, 2638, 2640, 2642, 2644, 2646, 2648, 2650, 2652, 2654, 2656, 2658, 2660, 2662, 2664, 2666, 2668, 2670, 2672, 2674, 2676, 2678, 2680, 2682, 2684, 2686, 2688, 2690, 2692, 2694, 2696, 2698, 2700, 2702, 2704, 2706, 2708, 2710, 2712, 2714, 2716, 2718, 2720, 2722, 2724, 2726, 2728, 2730, 2732, 2734, 2736, 2738, 2740, 2742, 2744, 2746, 2748, 2750, 2752, 2754, 2756, 2758, 2760, 2762, 2764, 2766, 2768, 2770, 2772, 2774, 2776, 2778, 2780, 2782, 2784, 2786, 2788, 2790, 2792, 2794, 2796, 2798, 2800, 2802, 2804, 2806, 2808, 2810, 2812, 2814, 2816, 2818, 2820, 2822, 2824, 2826, 2828, 2830, 2832, 2834, 2836, 2838, 2840, 2842, 2844, 2846, 2848, 2850, 2852, 2854, 2856, 2858, 2860, 2862, 2864, 2866, 2868, 2870, 2872, 2874, 2876, 2878, 2880, 2882, 2884, 2886, 2888, 2890, 2892, 2894, 2896, 2898, 2900, 2902, 2904, 2906, 2908, 2910, 2912, 2914, 2916, 2918, 2920, 2922, 2924, 2926, 2928, 2930, 2932, 2934, 2936, 2938, 2940, 2942, 2944, 2946, 2948, 2950, 2952, 2954, 2956, 2958, 2960, 2962, 2964, 2966, 2968, 2970, 2972, 2974, 2976, 2978, 2980, 2982, 2984, 2986, 2988, 2990, 2992, 2994, 2996, 2998, 3000, 3002, 3004, 3006, 3008, 3010, 3012, 3014, 3016, 3018, 3020, 3022, 3024, 3026, 3028, 3030, 3032, 3034, 3036, 3038, 3040, 3042, 3044, 3046, "
     ]
    }
   ],
   "source": [
    "list = [(*range(4,3048,1))]\n",
    "\n",
    "even_list = []\n",
    "for x in list:\n",
    "    if x % 2 == 0:\n",
    "      print ((x),end=', ')"
   ]
  },
  {
   "cell_type": "markdown",
   "metadata": {},
   "source": [
    "# Exercise 1: First and Last \n",
    "\n",
    "Creates a function that takes a string and returns the first and last character.\n",
    "### Examples\n",
    "\n",
    "```\n",
    "first_last(\"ganesh\") ➞ \"gh\"\n",
    "\n",
    "first_last(\"kali\") ➞ \"ki\"\n",
    "\n",
    "first_last(\"shiva\") ➞ \"sa\"\n",
    "\n",
    "first_last(\"vishnu\") ➞ \"vu\"\n",
    "\n",
    "first_last(\"durga\") ➞ \"da\"\n",
    "```"
   ]
  },
  {
   "cell_type": "code",
   "execution_count": 130,
   "metadata": {
    "scrolled": true
   },
   "outputs": [
    {
     "name": "stdout",
     "output_type": "stream",
     "text": [
      "the original list: ['ganesh', 'kali', 'shiva', 'durga', 'vishnu', 'durga']\n"
     ]
    }
   ],
   "source": [
    "first_last = [\"ganesh\", \"kali\", \"shiva\", \"durga\", \"vishnu\", \"durga\"]\n",
    "\n",
    "print(\"the original list: \" + str(first_last))\n"
   ]
  },
  {
   "cell_type": "code",
   "execution_count": 261,
   "metadata": {},
   "outputs": [],
   "source": [
    "my_value = \"ganesh\"\n",
    "\n",
    "def extract_FL(word):\n",
    "    return (word[0] + word[-1])"
   ]
  },
  {
   "cell_type": "code",
   "execution_count": 262,
   "metadata": {},
   "outputs": [
    {
     "data": {
      "text/plain": [
       "'gh'"
      ]
     },
     "execution_count": 262,
     "metadata": {},
     "output_type": "execute_result"
    }
   ],
   "source": [
    "extract_FL(\"ganesh\")"
   ]
  },
  {
   "cell_type": "markdown",
   "metadata": {},
   "source": [
    "# Exercise 2: Keys in Dict\n",
    "\n",
    "Write a function that returns `True` if a dictionary contains the specified key, and `False` otherwise.\n",
    "\n",
    "### Examples\n",
    "\n",
    "```\n",
    "has_key({ \"a\": 44, \"b\": 45, \"c\": 46 }, \"d\") ➞ False\n",
    "\n",
    "has_key({ \"craves\": True, \"midnight\": True, \"snack\": True }, \"morning\") ➞ False\n",
    "\n",
    "has_key({ \"pot\": 1, \"tot\": 2, \"not\": 3 }, \"not\") ➞ True\n",
    "```"
   ]
  },
  {
   "cell_type": "code",
   "execution_count": 204,
   "metadata": {},
   "outputs": [
    {
     "name": "stdout",
     "output_type": "stream",
     "text": [
      "False\n"
     ]
    }
   ],
   "source": [
    "dictionary = {\n",
    "    \"a\": 44,\n",
    "    \"b\": 45,\n",
    "    \"c\": 46\n",
    "}\n",
    "\n",
    "if \"d\" in dictionary:\n",
    "    print(\"True\")\n",
    "    \n",
    "else:\n",
    "    print(\"False\")"
   ]
  },
  {
   "cell_type": "code",
   "execution_count": 213,
   "metadata": {},
   "outputs": [
    {
     "name": "stdout",
     "output_type": "stream",
     "text": [
      "True\n"
     ]
    }
   ],
   "source": [
    "dictionary = {\n",
    "    \"a\": 44,\n",
    "    \"b\": 45,\n",
    "    \"c\": 46,\n",
    "    \"d\": 47\n",
    "}\n",
    "\n",
    "if \"d\" in dictionary:\n",
    "    print(\"True\")\n",
    "    \n",
    "else:\n",
    "    print(\"False\")"
   ]
  },
  {
   "cell_type": "markdown",
   "metadata": {},
   "source": [
    "# Exercise 3: Element Count\n",
    "\n",
    "Write a function that count how many times each element in a list occurs. It should return a dict in the format `element -> count`\n",
    "\n",
    "ex:\n",
    "```\n",
    "key_count([1, 3, 2, 1, 5, 3, 5, 1, 4]) ⇒ {\n",
    "    1: 3,\n",
    "    2: 1,\n",
    "    3: 2,\n",
    "    4: 1,\n",
    "    5: 2,\n",
    "}\n",
    "```"
   ]
  },
  {
   "cell_type": "code",
   "execution_count": 277,
   "metadata": {},
   "outputs": [
    {
     "name": "stdout",
     "output_type": "stream",
     "text": [
      "{1: 3, 3: 2, 2: 1, 5: 2, 4: 1}\n"
     ]
    }
   ],
   "source": [
    "def frequency(numbers):\n",
    "    \n",
    "    count = {}\n",
    "    for i in [1, 3, 2, 1, 5, 3, 5, 1, 4]:\n",
    "       count[i] = count.get(i,0) + 1\n",
    "    return count\n",
    "\n",
    "if __name__ == \"__main__\":\n",
    "    numbers = [1, 3, 2, 1, 5, 3, 5, 1, 4]\n",
    "    print(frequency(numbers))"
   ]
  },
  {
   "cell_type": "markdown",
   "metadata": {},
   "source": [
    "# Exercise 4: Test Distinct\n",
    "\n",
    "Write a Python function that takes a sequence of numbers and determines whether all the numbers are different from each other.\n",
    "\n",
    "```\n",
    "test_distinct([2,3,4,5,7,8]) -> True\n",
    "test_distinct([2,3,4,5,8,8]) -> False\n",
    "```"
   ]
  },
  {
   "cell_type": "code",
   "execution_count": 211,
   "metadata": {},
   "outputs": [
    {
     "name": "stdout",
     "output_type": "stream",
     "text": [
      "False\n"
     ]
    }
   ],
   "source": [
    "liste = [2,3,4,5,8,8]\n",
    "flag = len(set(liste)) == len(liste)\n",
    "\n",
    "if(flag):\n",
    "    print (\"True\")\n",
    "else :\n",
    "    print(\"False\")"
   ]
  },
  {
   "cell_type": "code",
   "execution_count": 212,
   "metadata": {},
   "outputs": [
    {
     "name": "stdout",
     "output_type": "stream",
     "text": [
      "True\n"
     ]
    }
   ],
   "source": [
    "liste = [2,3,4,5,8]\n",
    "flag = len(set(liste)) == len(liste)\n",
    "\n",
    "if(flag):\n",
    "    print (\"True\")\n",
    "else :\n",
    "    print(\"False\")"
   ]
  },
  {
   "cell_type": "markdown",
   "metadata": {},
   "source": [
    "# Exercise 5: Debt Calculator\n",
    "\n",
    "Write a Python program to compute the amount of the debt in n months. The borrowing amount is $100,000 and the loan adds 5% interest of the debt and rounds it to the nearest 1,000 above month by month.\n",
    "\n",
    "The function takes in an integer (the number of months) and returns the total debt including the starting \\$100,000 rounded to \\$1000 .\n",
    "\n",
    "```\n",
    "debt_total(7) -> 144000\n",
    "debt_total(8) -> 152000\n",
    "debt_total(9) -> 160000\n",
    "debt_total(1) -> 105000\n",
    "debt_total(57) -> 1736000\n",
    "```\n"
   ]
  },
  {
   "cell_type": "code",
   "execution_count": 2,
   "metadata": {},
   "outputs": [
    {
     "name": "stdout",
     "output_type": "stream",
     "text": [
      "type amount100000\n",
      "type monthly addition0\n",
      "type interest rate0.05\n",
      "type borrowing months60\n",
      "100250.0\n",
      "total 100250.0\n",
      "total 100500.625\n",
      "total 100751.8765625\n",
      "total 101003.75625390623\n",
      "total 101256.265644541\n",
      "total 101509.40630865234\n",
      "total 101763.17982442396\n",
      "total 102017.58777398501\n",
      "total 102272.63174341997\n",
      "total 102528.31332277851\n",
      "total 102784.63410608546\n",
      "total 103041.59569135067\n",
      "total 103299.19968057904\n",
      "total 103557.44767978048\n",
      "total 103816.34129897993\n",
      "total 104075.88215222736\n",
      "total 104336.07185760792\n",
      "total 104596.91203725194\n",
      "total 104858.40431734506\n",
      "total 105120.55032813842\n",
      "total 105383.35170395876\n",
      "total 105646.81008321865\n",
      "total 105910.92710842668\n",
      "total 106175.70442619774\n",
      "total 106441.14368726323\n",
      "total 106707.24654648139\n",
      "total 106974.01466284758\n",
      "total 107241.4496995047\n",
      "total 107509.55332375345\n",
      "total 107778.32720706283\n",
      "total 108047.77302508047\n",
      "total 108317.89245764317\n",
      "total 108588.68718878728\n",
      "total 108860.15890675924\n",
      "total 109132.30930402613\n",
      "total 109405.1400772862\n",
      "total 109678.6529274794\n",
      "total 109952.8495597981\n",
      "total 110227.73168369758\n",
      "total 110503.30101290681\n",
      "total 110779.55926543908\n",
      "total 111056.50816360267\n",
      "total 111334.14943401168\n",
      "total 111612.4848075967\n",
      "total 111891.5160196157\n",
      "total 112171.24480966473\n",
      "total 112451.67292168888\n",
      "total 112732.80210399309\n",
      "total 113014.63410925306\n",
      "total 113297.1706945262\n",
      "total 113580.4136212625\n",
      "total 113864.36465531566\n",
      "total 114149.02556695395\n",
      "total 114434.39813087133\n",
      "total 114720.4841261985\n",
      "total 115007.28533651399\n",
      "total 115294.80354985526\n",
      "total 115583.0405587299\n",
      "total 115871.99816012672\n",
      "total 116161.67815552703\n"
     ]
    }
   ],
   "source": [
    "debt = int(input('type amount'))\n",
    "addition = int(input('type monthly addition'))\n",
    "rate = float(input('type interest rate'))\n",
    "time = int(input('type borrowing months'))\n",
    "real_rate = rate * 0.05\n",
    "i = 0\n",
    "\n",
    "print (debt * (1 + real_rate))\n",
    "\n",
    "while i < time:\n",
    "    debt = (debt + addition) * (1 + real_rate)\n",
    "    i = i + 1\n",
    "    print ('total', debt)"
   ]
  },
  {
   "cell_type": "markdown",
   "metadata": {},
   "source": [
    "# Exercise 6: Spell Checker\n",
    "\n",
    "Create a function that takes in two lists: \n",
    "\n",
    "1. A sentence as a list of user-typed words\n",
    "\n",
    "2. The list of correctly-typed words\n",
    "\n",
    "and outputs a list containing 1s (correctly-typed words) and 0s (incorrectly-typed words).\n",
    "\n",
    "### Inputs:\n",
    "> User-typed: \\[\"cat\", \"blue\", \"skt\", \"umbrells\", \"paddy\"\\]\n",
    "\n",
    "> Correct: \\[\"cat\", \"blue\", \"sky\", \"umbrella\", \"paddy\"\\]\n",
    "\n",
    "### Output: \\[ 1, 1, 0, 0, 1 \\]\n",
    "\n",
    "### Examples\n",
    "\n",
    "```\n",
    "correct_stream(\n",
    "  [\"it\", \"is\", \"find\"],\n",
    "  [\"it\", \"is\", \"fine\"]\n",
    ") ➞ [1, 1, 0]\n",
    "\n",
    "correct_stream(\n",
    "  [\"april\", \"showrs\", \"bring\", \"may\", \"flowers\"],\n",
    "  [\"april\", \"showers\", \"bring\", \"may\", \"flowers\"]\n",
    ") ➞ [1, 0, 1, 1, 1]\n",
    "\n",
    "```"
   ]
  },
  {
   "cell_type": "code",
   "execution_count": 269,
   "metadata": {},
   "outputs": [
    {
     "name": "stdout",
     "output_type": "stream",
     "text": [
      "[0, 1, 1, 1, 0]\n"
     ]
    }
   ],
   "source": [
    "base = ['cat', 'blue','sky', 'umbrella', 'mosquito']\n",
    "user = ['catt', 'blue','sky', 'umbrella', 'mosquitoe']\n",
    "\n",
    "def compare_list(user,base):\n",
    "    return [1 if i == j else 0 for i, j in zip(user, base)]\n",
    "    \n",
    "print (compare_list(user,base))"
   ]
  },
  {
   "cell_type": "markdown",
   "metadata": {},
   "source": [
    "# Exercise 7: FizzBuzz\n",
    "\n",
    "Fizzbuzz is a game for children and a drinking game for adults. It's also a classic programming interview question.\n",
    "\n",
    "Suppose we have a number n. We have to display a string representation of all numbers from 1 to n, but there are some constraints.\n",
    "\n",
    "    If the number is divisible by 3, write Fizz instead of the number\n",
    "    If the number is divisible by 5, write Buzz instead of the number\n",
    "    If the number is divisible by 3 and 5 both, write FizzBuzz instead of the number\n",
    "\n",
    "So the results are `1, 2, Fizz, 4, Buzz, ..., 14, Fizzbuzz, 16, 17, Fizz, 19, Buzz, ...`\n",
    "\n",
    "Write a python program that prints fizzbuzz for numbers 1 to 150"
   ]
  },
  {
   "cell_type": "code",
   "execution_count": 178,
   "metadata": {},
   "outputs": [
    {
     "name": "stdout",
     "output_type": "stream",
     "text": [
      "1\n",
      "2\n",
      "fizz\n",
      "4\n",
      "buzz\n",
      "fizz\n",
      "7\n",
      "8\n",
      "fizz\n",
      "buzz\n",
      "11\n",
      "fizz\n",
      "13\n",
      "14\n",
      "fizzbuzz\n",
      "16\n",
      "17\n",
      "fizz\n",
      "19\n",
      "buzz\n",
      "fizz\n",
      "22\n",
      "23\n",
      "fizz\n",
      "buzz\n",
      "26\n",
      "fizz\n",
      "28\n",
      "29\n",
      "fizzbuzz\n",
      "31\n",
      "32\n",
      "fizz\n",
      "34\n",
      "buzz\n",
      "fizz\n",
      "37\n",
      "38\n",
      "fizz\n",
      "buzz\n",
      "41\n",
      "fizz\n",
      "43\n",
      "44\n",
      "fizzbuzz\n",
      "46\n",
      "47\n",
      "fizz\n",
      "49\n",
      "buzz\n",
      "fizz\n",
      "52\n",
      "53\n",
      "fizz\n",
      "buzz\n",
      "56\n",
      "fizz\n",
      "58\n",
      "59\n",
      "fizzbuzz\n",
      "61\n",
      "62\n",
      "fizz\n",
      "64\n",
      "buzz\n",
      "fizz\n",
      "67\n",
      "68\n",
      "fizz\n",
      "buzz\n",
      "71\n",
      "fizz\n",
      "73\n",
      "74\n",
      "fizzbuzz\n",
      "76\n",
      "77\n",
      "fizz\n",
      "79\n",
      "buzz\n",
      "fizz\n",
      "82\n",
      "83\n",
      "fizz\n",
      "buzz\n",
      "86\n",
      "fizz\n",
      "88\n",
      "89\n",
      "fizzbuzz\n",
      "91\n",
      "92\n",
      "fizz\n",
      "94\n",
      "buzz\n",
      "fizz\n",
      "97\n",
      "98\n",
      "fizz\n",
      "buzz\n",
      "101\n",
      "fizz\n",
      "103\n",
      "104\n",
      "fizzbuzz\n",
      "106\n",
      "107\n",
      "fizz\n",
      "109\n",
      "buzz\n",
      "fizz\n",
      "112\n",
      "113\n",
      "fizz\n",
      "buzz\n",
      "116\n",
      "fizz\n",
      "118\n",
      "119\n",
      "fizzbuzz\n",
      "121\n",
      "122\n",
      "fizz\n",
      "124\n",
      "buzz\n",
      "fizz\n",
      "127\n",
      "128\n",
      "fizz\n",
      "buzz\n",
      "131\n",
      "fizz\n",
      "133\n",
      "134\n",
      "fizzbuzz\n",
      "136\n",
      "137\n",
      "fizz\n",
      "139\n",
      "buzz\n",
      "fizz\n",
      "142\n",
      "143\n",
      "fizz\n",
      "buzz\n",
      "146\n",
      "fizz\n",
      "148\n",
      "149\n"
     ]
    }
   ],
   "source": [
    "for num in range(1,150):\n",
    "    if num % 15 == 0:\n",
    "        print(\"fizzbuzz\")\n",
    "    elif num % 3 == 0:\n",
    "        print (\"fizz\")\n",
    "    elif num % 5 == 0:\n",
    "        print (\"buzz\")\n",
    "    else:\n",
    "        print(num)"
   ]
  },
  {
   "cell_type": "markdown",
   "metadata": {},
   "source": [
    "# Exercise 8: Palindrome?\n",
    "\n",
    "A palindrome is a word which reads the same backward as forwards. Write a function that returns `True` if a string is a palindrome:\n",
    "```\n",
    "    “laval” ⇒ Yes\n",
    "    “montreal” ⇒ No\n",
    "```"
   ]
  },
  {
   "cell_type": "code",
   "execution_count": 193,
   "metadata": {},
   "outputs": [
    {
     "name": "stdout",
     "output_type": "stream",
     "text": [
      "Yes\n"
     ]
    }
   ],
   "source": [
    "def palindrome(x):\n",
    "    rev = ''.join(reversed(x))\n",
    "    if (x == rev):\n",
    "        return True\n",
    "\n",
    "x = \"laval\"\n",
    "ans = palindrome(x)\n",
    "\n",
    "if (ans) :\n",
    "    print(\"Yes\")\n",
    "else:\n",
    "    print(\"No\")"
   ]
  },
  {
   "cell_type": "code",
   "execution_count": 194,
   "metadata": {},
   "outputs": [
    {
     "name": "stdout",
     "output_type": "stream",
     "text": [
      "No\n"
     ]
    }
   ],
   "source": [
    "def palindrome(x):\n",
    "    rev = ''.join(reversed(x))\n",
    "    if (x == rev):\n",
    "        return True\n",
    "\n",
    "x = \"montreal\"\n",
    "ans = palindrome(x)\n",
    "\n",
    "if (ans) :\n",
    "    print(\"Yes\")\n",
    "else:\n",
    "    print(\"No\")"
   ]
  },
  {
   "cell_type": "markdown",
   "metadata": {},
   "source": [
    "# Exercise 9: Counting Country IDs\n",
    "\n",
    "We have a list of user IDS with identifiers of form “userid-COUNTRYID”. Calculate how many countries we have.\n",
    "\n",
    "Ex:\n",
    "```\n",
    "[gyhwefy7832ryyg-US, iu7ytf87gyuwef-CA, 98yfyg82t3r-US] -> {'US': 2, 'CA': 1}\n",
    "\n",
    "[gyhwefy7832ryyg-US, iu7ytf87gyuwef-CA, 98yfyg82t3r-US,\n",
    "    iuhsdf897y3righsfe-US, iushdf98h23ryg-IT, iuhdf9h32ryu9gf-IT,\n",
    "    IUufgh98y34-FR, 98yfdiuhdfbviuh8-UK\n",
    "] -> {'US': 3, 'CA': 1, \"IT\": 2, 'UK':1, 'FR':1}\n",
    "```"
   ]
  },
  {
   "cell_type": "code",
   "execution_count": 275,
   "metadata": {},
   "outputs": [
    {
     "ename": "TypeError",
     "evalue": "count() takes exactly one argument (0 given)",
     "output_type": "error",
     "traceback": [
      "\u001b[0;31m---------------------------------------------------------------------------\u001b[0m",
      "\u001b[0;31mTypeError\u001b[0m                                 Traceback (most recent call last)",
      "\u001b[0;32m<ipython-input-275-b146851123ee>\u001b[0m in \u001b[0;36m<module>\u001b[0;34m\u001b[0m\n\u001b[1;32m      3\u001b[0m     \"IUufgh98y34-FR\", \"98yfdiuhdfbviuh8-UK\"]\n\u001b[1;32m      4\u001b[0m \u001b[0;34m\u001b[0m\u001b[0m\n\u001b[0;32m----> 5\u001b[0;31m \u001b[0melements\u001b[0m\u001b[0;34m.\u001b[0m\u001b[0mcount\u001b[0m\u001b[0;34m(\u001b[0m\u001b[0;34m)\u001b[0m\u001b[0;34m\u001b[0m\u001b[0;34m\u001b[0m\u001b[0m\n\u001b[0m",
      "\u001b[0;31mTypeError\u001b[0m: count() takes exactly one argument (0 given)"
     ]
    }
   ],
   "source": [
    "elements = [\"gyhwefy7832ryyg-US\",\"iu7ytf87gyuwef-CA\", \"98yfyg82t3r-US\",\n",
    "    \"iuhsdf897y3righsfe-US\", \"iushdf98h23ryg-IT\", \"iuhdf9h32ryu9gf-IT\",\n",
    "    \"IUufgh98y34-FR\", \"98yfdiuhdfbviuh8-UK\"]\n",
    "\n",
    "elements."
   ]
  },
  {
   "cell_type": "markdown",
   "metadata": {},
   "source": [
    "# Exercise 10: Identifying top countries\n",
    "\n",
    "Using your solution to the problem above, write a function that returns the top 3 countries by number of users"
   ]
  },
  {
   "cell_type": "markdown",
   "metadata": {},
   "source": [
    "# Exercise 11: Century\n",
    "\n",
    "Write a function that takes a year and returns its corresponding century.\n",
    "\n",
    "### Examples\n",
    "\n",
    "```\n",
    "century_from_year(2005) ➞ 21\n",
    "\n",
    "century_from_year(1850) ➞ 19\n",
    "\n",
    "century_from_year(-332) ➞ -4\n",
    "\n",
    "century_from_year(55) ➞ 1\n",
    "\n",
    "century_from_year(-65) ➞ -1\n",
    "```"
   ]
  },
  {
   "cell_type": "markdown",
   "metadata": {},
   "source": [
    "# Exercise 12: Grade school addition\n",
    "\n",
    "Write a function that, given two lists of integers, adds them as if they were two numbers. So `12` would be `[1,2]` and `2357` would be `[2,3,5,7]`\n",
    "\n",
    "Ex:\n",
    "\n",
    "```\n",
    "    [1, 1] + [1] ⇒ 11 + 1 = 12\n",
    "    [9, 9] + [2] ⇒ 99 + 2 = 101\n",
    "```"
   ]
  },
  {
   "cell_type": "code",
   "execution_count": null,
   "metadata": {},
   "outputs": [],
   "source": []
  },
  {
   "cell_type": "markdown",
   "metadata": {},
   "source": [
    "# Exercise 13: Printing the pretty pyramid\n",
    "\n",
    "This pyramid is pretty!\n",
    "```\n",
    "* \n",
    "* * \n",
    "* * * \n",
    "* * * * \n",
    "* * * * * \n",
    "* * * * * * \n",
    "* * * * * \n",
    "* * * * \n",
    "* * * \n",
    "* * \n",
    "* \n",
    "```\n",
    "\n",
    "Let's celebrate that.\n",
    "\n",
    "Given a number of rows, print a sideways pyramid with this number of \"levels\" on each side. For instance your function `pretty_pyramid(4)` would print out:\n",
    "\n",
    "```\n",
    "* \n",
    "* * \n",
    "* * * \n",
    "* * * * \n",
    "* * * \n",
    "* * \n",
    "* \n",
    "```\n",
    "\n",
    "And `pretty_pyramid(8)` would print out:\n",
    "\n",
    "```\n",
    "* \n",
    "* * \n",
    "* * * \n",
    "* * * * \n",
    "* * * * * \n",
    "* * * * * * \n",
    "* * * * * * * \n",
    "* * * * * * * * \n",
    "* * * * * * * \n",
    "* * * * * * \n",
    "* * * * * \n",
    "* * * * \n",
    "* * * \n",
    "* * \n",
    "* \n",
    "```"
   ]
  },
  {
   "cell_type": "markdown",
   "metadata": {},
   "source": [
    "# Exercise 14: Lucky 7\n",
    "\n",
    "Return the sum of the numbers in an array, returning 0 for an empty array. \n",
    "\n",
    "The number 7 is “lucky”, therefore it does countdouble and the number that comes immediately after a 7 countstriple.\n",
    "\n",
    "```\n",
    "lucky_seven([1, 2, 4, 1]) → 8\n",
    "lucky_seven([1, 1]) → 2\n",
    "lucky_seven([1, 2, 2, 1, 7]) → 20\n",
    "lucky_seven([1, 2, 2, 1, 7, 3, 1]) → 30\n",
    "```\n"
   ]
  },
  {
   "cell_type": "markdown",
   "metadata": {},
   "source": [
    "# Exercise 15: Pascal's Triangle\n",
    "\n",
    "[Pascals Triangle](https://en.wikipedia.org/wiki/Pascal%27s_triangle) is a mathematical structure that's important in statistics and [combinatorics](https://en.wikipedia.org/wiki/Combinatorics). It starts with the number 1 and expands as a pyramid where a number is the sum of it's diagonal neighbors on the row above it.\n",
    "\n",
    "It looks like this (you can find more examples in the links):\n",
    "\n",
    "```\n",
    "                 1\n",
    "               1   1\n",
    "             1   2   1\n",
    "           1   3   3   1\n",
    "         1   4   6   4   1\n",
    "       1   5   10   10   5   1\n",
    "     1   6   15   20   15   6   1\n",
    "   1   7   21   35   35   21   7   1\n",
    "```\n",
    "\n",
    "Write a function that given an integer (the number of rows) prints out pascal's triangle up to the specified row. Example:\n",
    "\n",
    "```\n",
    "pascal_triangle(8)\n",
    "```\n",
    "out:\n",
    "```\n",
    "                 1\n",
    "\n",
    "               1   1\n",
    "\n",
    "             1   2   1\n",
    "\n",
    "           1   3   3   1\n",
    "\n",
    "         1   4   6   4   1\n",
    "\n",
    "       1   5   10   10   5   1\n",
    "\n",
    "     1   6   15   20   15   6   1\n",
    "\n",
    "   1   7   21   35   35   21   7   1\n",
    "\n",
    "```\n",
    "Another example\n",
    "\n",
    "```\n",
    "pascal_triangle(3)\n",
    "```\n",
    "out:\n",
    "```\n",
    "                 1\n",
    "\n",
    "               1   1\n",
    "\n",
    "             1   2   1\n",
    "\n",
    "```"
   ]
  },
  {
   "cell_type": "code",
   "execution_count": null,
   "metadata": {},
   "outputs": [],
   "source": []
  }
 ],
 "metadata": {
  "file_extension": ".py",
  "kernelspec": {
   "display_name": "Python 3",
   "language": "python",
   "name": "python3"
  },
  "language_info": {
   "codemirror_mode": {
    "name": "ipython",
    "version": 3
   },
   "file_extension": ".py",
   "mimetype": "text/x-python",
   "name": "python",
   "nbconvert_exporter": "python",
   "pygments_lexer": "ipython3",
   "version": "3.8.3"
  },
  "mimetype": "text/x-python",
  "name": "python",
  "npconvert_exporter": "python",
  "pygments_lexer": "ipython3",
  "version": 3
 },
 "nbformat": 4,
 "nbformat_minor": 2
}
